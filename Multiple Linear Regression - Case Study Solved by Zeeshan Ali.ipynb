{
 "cells": [
  {
   "cell_type": "code",
   "execution_count": 28,
   "id": "dacd47b7",
   "metadata": {},
   "outputs": [],
   "source": [
    "#import libraries\n",
    "import pandas as pd_zeeshanali # for creating data fames\n",
    "import numpy as np_zeeshanali # for numerical analysis\n",
    "import matplotlib.pyplot as plt_zeeshanali # for graphical representation of the data\n",
    "from sklearn import linear_model # required model import from sklearn library\n",
    "%matplotlib inline\n",
    "import seaborn as sns"
   ]
  },
  {
   "cell_type": "code",
   "execution_count": 35,
   "id": "6ed8a71a",
   "metadata": {},
   "outputs": [
    {
     "data": {
      "text/html": [
       "<div>\n",
       "<style scoped>\n",
       "    .dataframe tbody tr th:only-of-type {\n",
       "        vertical-align: middle;\n",
       "    }\n",
       "\n",
       "    .dataframe tbody tr th {\n",
       "        vertical-align: top;\n",
       "    }\n",
       "\n",
       "    .dataframe thead th {\n",
       "        text-align: right;\n",
       "    }\n",
       "</style>\n",
       "<table border=\"1\" class=\"dataframe\">\n",
       "  <thead>\n",
       "    <tr style=\"text-align: right;\">\n",
       "      <th></th>\n",
       "      <th>Rented SqFt</th>\n",
       "      <th>Percent Office Space</th>\n",
       "      <th>Year Built</th>\n",
       "      <th>Clear Height</th>\n",
       "      <th>Truck-High Doors</th>\n",
       "      <th>Ground Level Doors</th>\n",
       "      <th>Date of Lease</th>\n",
       "      <th>MonthlyRent</th>\n",
       "    </tr>\n",
       "  </thead>\n",
       "  <tbody>\n",
       "    <tr>\n",
       "      <th>0</th>\n",
       "      <td>796</td>\n",
       "      <td>8.876993</td>\n",
       "      <td>1974</td>\n",
       "      <td>20.0</td>\n",
       "      <td>0</td>\n",
       "      <td>1</td>\n",
       "      <td>14-08-75</td>\n",
       "      <td>11200</td>\n",
       "    </tr>\n",
       "    <tr>\n",
       "      <th>1</th>\n",
       "      <td>500</td>\n",
       "      <td>5.576001</td>\n",
       "      <td>1975</td>\n",
       "      <td>20.5</td>\n",
       "      <td>0</td>\n",
       "      <td>1</td>\n",
       "      <td>15-07-75</td>\n",
       "      <td>8500</td>\n",
       "    </tr>\n",
       "    <tr>\n",
       "      <th>2</th>\n",
       "      <td>450</td>\n",
       "      <td>5.018401</td>\n",
       "      <td>1976</td>\n",
       "      <td>21.0</td>\n",
       "      <td>0</td>\n",
       "      <td>2</td>\n",
       "      <td>22-07-77</td>\n",
       "      <td>9500</td>\n",
       "    </tr>\n",
       "    <tr>\n",
       "      <th>3</th>\n",
       "      <td>650</td>\n",
       "      <td>7.248801</td>\n",
       "      <td>1977</td>\n",
       "      <td>20.0</td>\n",
       "      <td>0</td>\n",
       "      <td>2</td>\n",
       "      <td>29-03-78</td>\n",
       "      <td>10200</td>\n",
       "    </tr>\n",
       "    <tr>\n",
       "      <th>4</th>\n",
       "      <td>352</td>\n",
       "      <td>3.925505</td>\n",
       "      <td>1978</td>\n",
       "      <td>22.0</td>\n",
       "      <td>0</td>\n",
       "      <td>3</td>\n",
       "      <td>27-08-79</td>\n",
       "      <td>10100</td>\n",
       "    </tr>\n",
       "    <tr>\n",
       "      <th>5</th>\n",
       "      <td>400</td>\n",
       "      <td>4.460801</td>\n",
       "      <td>1979</td>\n",
       "      <td>21.5</td>\n",
       "      <td>0</td>\n",
       "      <td>1</td>\n",
       "      <td>26-06-81</td>\n",
       "      <td>9540</td>\n",
       "    </tr>\n",
       "    <tr>\n",
       "      <th>6</th>\n",
       "      <td>380</td>\n",
       "      <td>4.237761</td>\n",
       "      <td>1980</td>\n",
       "      <td>20.5</td>\n",
       "      <td>0</td>\n",
       "      <td>2</td>\n",
       "      <td>29-08-82</td>\n",
       "      <td>9800</td>\n",
       "    </tr>\n",
       "    <tr>\n",
       "      <th>7</th>\n",
       "      <td>450</td>\n",
       "      <td>5.018401</td>\n",
       "      <td>1981</td>\n",
       "      <td>20.0</td>\n",
       "      <td>0</td>\n",
       "      <td>2</td>\n",
       "      <td>19-08-83</td>\n",
       "      <td>8800</td>\n",
       "    </tr>\n",
       "    <tr>\n",
       "      <th>8</th>\n",
       "      <td>600</td>\n",
       "      <td>6.691201</td>\n",
       "      <td>1982</td>\n",
       "      <td>21.0</td>\n",
       "      <td>0</td>\n",
       "      <td>3</td>\n",
       "      <td>31-07-84</td>\n",
       "      <td>8700</td>\n",
       "    </tr>\n",
       "    <tr>\n",
       "      <th>9</th>\n",
       "      <td>500</td>\n",
       "      <td>5.576001</td>\n",
       "      <td>1983</td>\n",
       "      <td>22.0</td>\n",
       "      <td>0</td>\n",
       "      <td>2</td>\n",
       "      <td>28-06-85</td>\n",
       "      <td>8900</td>\n",
       "    </tr>\n",
       "    <tr>\n",
       "      <th>10</th>\n",
       "      <td>515</td>\n",
       "      <td>5.743281</td>\n",
       "      <td>1984</td>\n",
       "      <td>23.0</td>\n",
       "      <td>0</td>\n",
       "      <td>1</td>\n",
       "      <td>23-08-86</td>\n",
       "      <td>8750</td>\n",
       "    </tr>\n",
       "    <tr>\n",
       "      <th>11</th>\n",
       "      <td>390</td>\n",
       "      <td>4.349281</td>\n",
       "      <td>1985</td>\n",
       "      <td>24.0</td>\n",
       "      <td>0</td>\n",
       "      <td>1</td>\n",
       "      <td>06-09-87</td>\n",
       "      <td>11100</td>\n",
       "    </tr>\n",
       "    <tr>\n",
       "      <th>12</th>\n",
       "      <td>420</td>\n",
       "      <td>4.683841</td>\n",
       "      <td>1986</td>\n",
       "      <td>23.5</td>\n",
       "      <td>0</td>\n",
       "      <td>2</td>\n",
       "      <td>23-08-88</td>\n",
       "      <td>10500</td>\n",
       "    </tr>\n",
       "    <tr>\n",
       "      <th>13</th>\n",
       "      <td>445</td>\n",
       "      <td>4.962641</td>\n",
       "      <td>1987</td>\n",
       "      <td>22.5</td>\n",
       "      <td>0</td>\n",
       "      <td>3</td>\n",
       "      <td>23-08-89</td>\n",
       "      <td>9700</td>\n",
       "    </tr>\n",
       "    <tr>\n",
       "      <th>14</th>\n",
       "      <td>395</td>\n",
       "      <td>4.405041</td>\n",
       "      <td>1988</td>\n",
       "      <td>23.0</td>\n",
       "      <td>0</td>\n",
       "      <td>3</td>\n",
       "      <td>30-08-90</td>\n",
       "      <td>9900</td>\n",
       "    </tr>\n",
       "    <tr>\n",
       "      <th>15</th>\n",
       "      <td>460</td>\n",
       "      <td>5.129921</td>\n",
       "      <td>1989</td>\n",
       "      <td>24.5</td>\n",
       "      <td>0</td>\n",
       "      <td>2</td>\n",
       "      <td>30-08-91</td>\n",
       "      <td>11120</td>\n",
       "    </tr>\n",
       "    <tr>\n",
       "      <th>16</th>\n",
       "      <td>440</td>\n",
       "      <td>4.906881</td>\n",
       "      <td>1990</td>\n",
       "      <td>22.0</td>\n",
       "      <td>0</td>\n",
       "      <td>1</td>\n",
       "      <td>30-08-92</td>\n",
       "      <td>9450</td>\n",
       "    </tr>\n",
       "    <tr>\n",
       "      <th>17</th>\n",
       "      <td>410</td>\n",
       "      <td>4.572321</td>\n",
       "      <td>1991</td>\n",
       "      <td>23.0</td>\n",
       "      <td>0</td>\n",
       "      <td>2</td>\n",
       "      <td>30-08-93</td>\n",
       "      <td>9600</td>\n",
       "    </tr>\n",
       "    <tr>\n",
       "      <th>18</th>\n",
       "      <td>414</td>\n",
       "      <td>4.616929</td>\n",
       "      <td>1992</td>\n",
       "      <td>23.5</td>\n",
       "      <td>0</td>\n",
       "      <td>1</td>\n",
       "      <td>30-08-94</td>\n",
       "      <td>9650</td>\n",
       "    </tr>\n",
       "  </tbody>\n",
       "</table>\n",
       "</div>"
      ],
      "text/plain": [
       "    Rented SqFt  Percent Office Space  Year Built  Clear Height  \\\n",
       "0           796              8.876993        1974          20.0   \n",
       "1           500              5.576001        1975          20.5   \n",
       "2           450              5.018401        1976          21.0   \n",
       "3           650              7.248801        1977          20.0   \n",
       "4           352              3.925505        1978          22.0   \n",
       "5           400              4.460801        1979          21.5   \n",
       "6           380              4.237761        1980          20.5   \n",
       "7           450              5.018401        1981          20.0   \n",
       "8           600              6.691201        1982          21.0   \n",
       "9           500              5.576001        1983          22.0   \n",
       "10          515              5.743281        1984          23.0   \n",
       "11          390              4.349281        1985          24.0   \n",
       "12          420              4.683841        1986          23.5   \n",
       "13          445              4.962641        1987          22.5   \n",
       "14          395              4.405041        1988          23.0   \n",
       "15          460              5.129921        1989          24.5   \n",
       "16          440              4.906881        1990          22.0   \n",
       "17          410              4.572321        1991          23.0   \n",
       "18          414              4.616929        1992          23.5   \n",
       "\n",
       "    Truck-High Doors  Ground Level Doors Date of Lease  MonthlyRent  \n",
       "0                  0                   1      14-08-75        11200  \n",
       "1                  0                   1      15-07-75         8500  \n",
       "2                  0                   2      22-07-77         9500  \n",
       "3                  0                   2      29-03-78        10200  \n",
       "4                  0                   3      27-08-79        10100  \n",
       "5                  0                   1      26-06-81         9540  \n",
       "6                  0                   2      29-08-82         9800  \n",
       "7                  0                   2      19-08-83         8800  \n",
       "8                  0                   3      31-07-84         8700  \n",
       "9                  0                   2      28-06-85         8900  \n",
       "10                 0                   1      23-08-86         8750  \n",
       "11                 0                   1      06-09-87        11100  \n",
       "12                 0                   2      23-08-88        10500  \n",
       "13                 0                   3      23-08-89         9700  \n",
       "14                 0                   3      30-08-90         9900  \n",
       "15                 0                   2      30-08-91        11120  \n",
       "16                 0                   1      30-08-92         9450  \n",
       "17                 0                   2      30-08-93         9600  \n",
       "18                 0                   1      30-08-94         9650  "
      ]
     },
     "execution_count": 35,
     "metadata": {},
     "output_type": "execute_result"
    }
   ],
   "source": [
    "# load dataset\n",
    "df_zeeshanali = pd_zeeshanali.read_csv(\"D:\\Assignment\\dataset.csv\")\n",
    "df_zeeshanali"
   ]
  },
  {
   "cell_type": "code",
   "execution_count": 36,
   "id": "c0a83070",
   "metadata": {},
   "outputs": [
    {
     "data": {
      "text/plain": [
       "<AxesSubplot:>"
      ]
     },
     "execution_count": 36,
     "metadata": {},
     "output_type": "execute_result"
    },
    {
     "data": {
      "image/png": "[encoded data removed]",
      "text/plain": [
       "<Figure size 288x432 with 2 Axes>"
      ]
     },
     "metadata": {
      "needs_background": "light"
     },
     "output_type": "display_data"
    }
   ],
   "source": [
    "# we create a correlation matrix that measures the linear relationships between the variables.\n",
    "# The correlation matrix can be formed by using the corr function from the pandas dataframe library.\n",
    "# We will use the heatmap function from the seaborn library to plot the correlation matrix.\n",
    "\n",
    "correlation_matrix = df_zeeshanali.corr().round(2)\n",
    "\n",
    "plt.figure(figsize=(4, 6)) #increase the heatmap display size\n",
    "\n",
    "# annot = True to print the values inside the square\n",
    "sns.heatmap(data=correlation_matrix, annot=True)"
   ]
  },
  {
   "cell_type": "code",
   "execution_count": 39,
   "id": "0dbf3a36",
   "metadata": {},
   "outputs": [],
   "source": [
    "# create multiple linear regression model\n",
    "\n",
    "reg = linear_model.LinearRegression()\n"
   ]
  },
  {
   "cell_type": "code",
   "execution_count": 40,
   "id": "e4e31872",
   "metadata": {},
   "outputs": [
    {
     "data": {
      "text/plain": [
       "LinearRegression()"
      ]
     },
     "execution_count": 40,
     "metadata": {},
     "output_type": "execute_result"
    }
   ],
   "source": [
    "reg.fit(df_zeeshanali[['Clear Height','Rented SqFt','Year Built']],df_zeeshanali.MonthlyRent)\n",
    "\n",
    "# i choose Rented SqFt becuase the coorelation with MonthlyRent (target variable) is 0.51 (Positive, Weak Correlation)\n",
    "# i choose Year Built becuase the coorelation with MonthlyRent (target variable) is 0.78 (Positive, Strong Correlation)\n",
    "# i choose Clear Height becuase the coorelation with MonthlyRent (target variable) is 0.35 (Positive, weak Correlation)"
   ]
  },
  {
   "cell_type": "code",
   "execution_count": 41,
   "id": "52785286",
   "metadata": {},
   "outputs": [
    {
     "data": {
      "text/plain": [
       "array([501.12616828,   2.49597032, -66.39158288])"
      ]
     },
     "execution_count": 41,
     "metadata": {},
     "output_type": "execute_result"
    }
   ],
   "source": [
    "reg.coef_"
   ]
  },
  {
   "cell_type": "code",
   "execution_count": 42,
   "id": "bb47fb0c",
   "metadata": {},
   "outputs": [
    {
     "data": {
      "text/plain": [
       "129202.322482063"
      ]
     },
     "execution_count": 42,
     "metadata": {},
     "output_type": "execute_result"
    }
   ],
   "source": [
    "reg.intercept_"
   ]
  },
  {
   "cell_type": "code",
   "execution_count": 44,
   "id": "415df602",
   "metadata": {},
   "outputs": [
    {
     "data": {
      "text/plain": [
       "array([10154.65361033,  9600.01789813,  9659.3908836 ,  9591.06719559,\n",
       "        9783.12879518,  9585.98070331,  8968.54354584,  8826.30680092,\n",
       "        9635.43693367,  9820.5744875 , 10292.74862763, 10415.48692356,\n",
       "       10173.41136601,  9668.29287274,  9727.66585821, 10575.20159827,\n",
       "        9206.07518838,  9565.9306643 ,  9760.08604682])"
      ]
     },
     "execution_count": 44,
     "metadata": {},
     "output_type": "execute_result"
    }
   ],
   "source": [
    "reg.predict(df_zeeshanali[['Clear Height','Rented SqFt','Year Built']])"
   ]
  },
  {
   "cell_type": "code",
   "execution_count": 51,
   "id": "64e1eec2",
   "metadata": {},
   "outputs": [],
   "source": [
    "RentedSqFt_zeeshanali= 2.49597032\n",
    "ClearHeight_zeeshanali= 5.09478794\n",
    "YearBuilt_zeeshanali= -66.39158288\n",
    "\n",
    "MonthlyRent_zeeshanali = 700 * RentedSqFt_zeeshanali + 10 * ClearHeight_zeeshanali + 1998 * YearBuilt_zeeshanali + reg.intercept_\n"
   ]
  },
  {
   "cell_type": "code",
   "execution_count": null,
   "id": "beff4dd9",
   "metadata": {},
   "outputs": [],
   "source": []
  },
  {
   "cell_type": "code",
   "execution_count": null,
   "id": "b9526761",
   "metadata": {},
   "outputs": [],
   "source": []
  }
 ],
 "metadata": {
  "kernelspec": {
   "display_name": "Python 3",
   "language": "python",
   "name": "python3"
  },
  "language_info": {
   "codemirror_mode": {
    "name": "ipython",
    "version": 3
   },
   "file_extension": ".py",
   "mimetype": "text/x-python",
   "name": "python",
   "nbconvert_exporter": "python",
   "pygments_lexer": "ipython3",
   "version": "3.8.8"
  }
 },
 "nbformat": 4,
 "nbformat_minor": 5
}
